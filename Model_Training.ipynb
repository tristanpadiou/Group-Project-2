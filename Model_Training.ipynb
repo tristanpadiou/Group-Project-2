{
 "cells": [
  {
   "cell_type": "code",
   "execution_count": 1,
   "metadata": {},
   "outputs": [],
   "source": [
    "import pandas as pd\n",
    "import pipelinee\n"
   ]
  },
  {
   "cell_type": "code",
   "execution_count": 2,
   "metadata": {},
   "outputs": [],
   "source": [
    "df_white=pd.read_csv('Resources/winequality-white.csv', delimiter=';')\n",
    "df_red=pd.read_csv('Resources/winequality-red.csv', delimiter=';')"
   ]
  },
  {
   "cell_type": "code",
   "execution_count": 3,
   "metadata": {},
   "outputs": [
    {
     "name": "stdout",
     "output_type": "stream",
     "text": [
      "balanced_accuracy_score of Random Forest Classifier:\n",
      "0.5967019564838633\n",
      "Classification report of Random Forest Classifier:\n",
      "              precision    recall  f1-score   support\n",
      "\n",
      "cooking wine       0.59      0.76      0.67       263\n",
      "   promising       0.43      0.74      0.54       159\n",
      "trivial wine       0.61      0.29      0.40       371\n",
      "\n",
      "    accuracy                           0.54       793\n",
      "   macro avg       0.54      0.60      0.53       793\n",
      "weighted avg       0.56      0.54      0.51       793\n",
      "\n"
     ]
    }
   ],
   "source": [
    "pipelinee.training(df_white)"
   ]
  },
  {
   "cell_type": "code",
   "execution_count": 4,
   "metadata": {},
   "outputs": [
    {
     "name": "stdout",
     "output_type": "stream",
     "text": [
      "balanced_accuracy_score of Random Forest Classifier:\n",
      "0.61875\n",
      "Classification report of Random Forest Classifier:\n",
      "              precision    recall  f1-score   support\n",
      "\n",
      "cooking wine       0.65      0.70      0.67       120\n",
      "   promising       0.41      0.78      0.54        32\n",
      "trivial wine       0.55      0.38      0.45       120\n",
      "\n",
      "    accuracy                           0.57       272\n",
      "   macro avg       0.54      0.62      0.55       272\n",
      "weighted avg       0.58      0.57      0.56       272\n",
      "\n"
     ]
    }
   ],
   "source": [
    "pipelinee.training(df_red)"
   ]
  }
 ],
 "metadata": {
  "kernelspec": {
   "display_name": "base",
   "language": "python",
   "name": "python3"
  },
  "language_info": {
   "codemirror_mode": {
    "name": "ipython",
    "version": 3
   },
   "file_extension": ".py",
   "mimetype": "text/x-python",
   "name": "python",
   "nbconvert_exporter": "python",
   "pygments_lexer": "ipython3",
   "version": "3.11.7"
  }
 },
 "nbformat": 4,
 "nbformat_minor": 2
}
