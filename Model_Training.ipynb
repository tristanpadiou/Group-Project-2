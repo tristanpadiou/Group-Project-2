{
 "cells": [
  {
   "cell_type": "code",
   "execution_count": 1,
   "metadata": {},
   "outputs": [],
   "source": [
    "import pandas as pd\n",
    "import p_utils as util\n"
   ]
  },
  {
   "cell_type": "code",
   "execution_count": 2,
   "metadata": {},
   "outputs": [],
   "source": [
    "df_white=pd.read_csv('Resources/winequality-white.csv', delimiter=';')\n",
    "df_red=pd.read_csv('Resources/winequality-red.csv', delimiter=';')"
   ]
  },
  {
   "cell_type": "code",
   "execution_count": 3,
   "metadata": {},
   "outputs": [
    {
     "name": "stdout",
     "output_type": "stream",
     "text": [
      "resampling method used: RandomOverSampler(random_state=1)\n",
      "---------------------------------------------------------\n",
      "Performig hyperparameter-tuning with Gridsearch CV. Can take up to 1min 30sec\n",
      "the best parameters are: {'max_depth': None, 'n_estimators': 200}\n",
      "---------------------------------------------------------\n",
      "Classification report of Random Forest Classifier:\n",
      "              precision    recall  f1-score   support\n",
      "\n",
      "cooking wine       0.76      0.72      0.74       324\n",
      "   promising       0.75      0.73      0.74       221\n",
      "trivial wine       0.69      0.73      0.71       435\n",
      "\n",
      "    accuracy                           0.73       980\n",
      "   macro avg       0.73      0.73      0.73       980\n",
      "weighted avg       0.73      0.73      0.73       980\n",
      "\n"
     ]
    }
   ],
   "source": [
    "util.training(df_white)"
   ]
  },
  {
   "cell_type": "code",
   "execution_count": 4,
   "metadata": {},
   "outputs": [
    {
     "name": "stdout",
     "output_type": "stream",
     "text": [
      "resampling method used: SMOTE(random_state=1)\n",
      "---------------------------------------------------------\n",
      "Performig hyperparameter-tuning with Gridsearch CV. Can take up to 1min 30sec\n",
      "the best parameters are: {'max_depth': 20, 'n_estimators': 200}\n",
      "---------------------------------------------------------\n",
      "Classification report of Random Forest Classifier:\n",
      "              precision    recall  f1-score   support\n",
      "\n",
      "cooking wine       0.81      0.82      0.82       154\n",
      "   promising       0.46      0.66      0.54        32\n",
      "trivial wine       0.72      0.63      0.67       134\n",
      "\n",
      "    accuracy                           0.73       320\n",
      "   macro avg       0.66      0.70      0.67       320\n",
      "weighted avg       0.74      0.72      0.73       320\n",
      "\n"
     ]
    }
   ],
   "source": [
    "util.training(df_red)"
   ]
  }
 ],
 "metadata": {
  "kernelspec": {
   "display_name": "base",
   "language": "python",
   "name": "python3"
  },
  "language_info": {
   "codemirror_mode": {
    "name": "ipython",
    "version": 3
   },
   "file_extension": ".py",
   "mimetype": "text/x-python",
   "name": "python",
   "nbconvert_exporter": "python",
   "pygments_lexer": "ipython3",
   "version": "3.11.7"
  }
 },
 "nbformat": 4,
 "nbformat_minor": 2
}
